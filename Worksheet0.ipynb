{
  "nbformat": 4,
  "nbformat_minor": 0,
  "metadata": {
    "colab": {
      "provenance": []
    },
    "kernelspec": {
      "name": "python3",
      "display_name": "Python 3"
    },
    "language_info": {
      "name": "python"
    }
  },
  "cells": [
    {
      "cell_type": "markdown",
      "source": [
        "Exercise on Functions:\n",
        "Task - 1:\n",
        "Create a Python program that converts between different units of measurement.\n",
        "• The program should:\n",
        "1. Prompt the user to choose the type of conversion (e.g., length, weight, volume).\n",
        "2. Ask the user to input the value to be converted.\n",
        "3. Perform the conversion and display the result.\n",
        "4. Handle potential errors, such as invalid input or unsupported conversion types.\n",
        "• Requirements:\n",
        "1. Functions: Define at least one function to perform the conversion.\n",
        "2. Error Handling: Use try-except blocks to handle invalid input (e.g., non-numeric values).\n",
        "3. User Input: Prompt the user to select the conversion type and input the value.\n",
        "4. Docstrings: Include a docstring in your function to describe its purpose, parameters, and\n",
        "return value.\n",
        "• Conversion Options:\n",
        "1. Length:\n",
        "– Convert meters (m) to feet (ft).\n",
        "– Convert feet (ft) to meters (m).\n",
        "2. Weight:\n",
        "– Convert kilograms (kg) to pounds (lbs).\n",
        "– Convert pounds (lbs) to kilograms (kg).\n",
        "3. Volume:\n",
        "– Convert liters (L) to gallons (gal).\n",
        "– Convert gallons (gal) to liters (L)."
      ],
      "metadata": {
        "id": "K5kRPy28-pDd"
      }
    },
    {
      "cell_type": "code",
      "execution_count": 6,
      "metadata": {
        "colab": {
          "base_uri": "https://localhost:8080/"
        },
        "id": "QZXztWo2-dLt",
        "outputId": "78f89753-3e9d-47d9-d7d4-1f7124f2e532"
      },
      "outputs": [
        {
          "name": "stdout",
          "output_type": "stream",
          "text": [
            "Enter conversion type (length, weight, or volume): weight\n",
            "Enter the value to convert: 60\n",
            "Enter conversion option (kg_to_lbs or lbs_to_kg): kg_to_lbs\n"
          ]
        },
        {
          "output_type": "execute_result",
          "data": {
            "text/plain": [
              "132.2772"
            ]
          },
          "metadata": {},
          "execution_count": 6
        }
      ],
      "source": [
        "def convert_units(conversion_type, value):\n",
        "  \"\"\"Converts between different units of measurement.\n",
        "\n",
        "  Args:\n",
        "    conversion_type: The type of conversion to perform (e.g., \"length\", \"weight\", \"volume\").\n",
        "    value: The value to be converted.\n",
        "\n",
        "  Returns:\n",
        "    The converted value, or an error message if the conversion is invalid.\n",
        "  \"\"\"\n",
        "  try:\n",
        "    value = float(value)\n",
        "  except ValueError:\n",
        "    return \"Invalid input. Please enter a numeric value.\"\n",
        "\n",
        "  if conversion_type == \"length\":\n",
        "    conversion_option = input(\"Enter conversion option (m_to_ft or ft_to_m): \").lower()\n",
        "    if conversion_option == \"m_to_ft\":\n",
        "      return value * 3.28084\n",
        "    elif conversion_option == \"ft_to_m\":\n",
        "      return value / 3.28084\n",
        "    else:\n",
        "      return \"Invalid length conversion option.\"\n",
        "  elif conversion_type == \"weight\":\n",
        "    conversion_option = input(\"Enter conversion option (kg_to_lbs or lbs_to_kg): \").lower()\n",
        "    if conversion_option == \"kg_to_lbs\":\n",
        "      return value * 2.20462\n",
        "    elif conversion_option == \"lbs_to_kg\":\n",
        "      return value / 2.20462\n",
        "    else:\n",
        "      return \"Invalid weight conversion option.\"\n",
        "  elif conversion_type == \"volume\":\n",
        "    conversion_option = input(\"Enter conversion option (l_to_gal or gal_to_l): \").lower()\n",
        "    if conversion_option == \"l_to_gal\":\n",
        "      return value * 0.264172\n",
        "    elif conversion_option == \"gal_to_l\":\n",
        "      return value / 0.264172\n",
        "    else:\n",
        "      return \"Invalid volume conversion option.\"\n",
        "  else:\n",
        "    return \"Invalid conversion type.\"\n",
        "\n",
        "if __name__ == \"__main__\":\n",
        "  conversion_type = input(\"Enter conversion type (length, weight, or volume): \").lower()\n",
        "  value = input(\"Enter the value to convert: \")\n",
        "  result = convert_units(conversion_type, value)\n",
        "result\n"
      ]
    },
    {
      "cell_type": "markdown",
      "source": [
        "Task - 2:\n",
        "Create a Python program that performs various mathematical operations on a list of numbers.\n",
        "• The Program should:\n",
        "1. Prompt the user to choose an operation (e.g., find the sum, average, maximum, or minimum\n",
        "of the numbers).\n",
        "2. Ask the user to input a list of numbers (separated by spaces).\n",
        "\n",
        "18\n",
        "\n",
        "6CS012 Worksheet - 0 Siman Giri\n",
        "\n",
        "3. Perform the selected operation and display the result.\n",
        "4. Handle potential errors, such as invalid input or empty lists.\n",
        "• Requirements:\n",
        "\n",
        "1. Functions: Define at least one function for each operation (sum, average, maximum, mini-\n",
        "mum).\n",
        "\n",
        "2. Error Handling: Use try-except blocks to handle invalid input (e.g., non-numeric values or\n",
        "empty lists).\n",
        "3. User Input: Prompt the user to select the operation and input the list of numbers.\n",
        "4. Docstrings: Include a docstring in each function to describe its purpose, parameters, and\n",
        "return value."
      ],
      "metadata": {
        "id": "b6kMyzHa_umU"
      }
    },
    {
      "cell_type": "code",
      "source": [
        "def calculate_sum(numbers):\n",
        "  \"\"\"Calculates the sum of a list of numbers.\n",
        "\n",
        "  Args:\n",
        "    numbers: A list of numbers.\n",
        "\n",
        "  Returns:\n",
        "    The sum of the numbers, or an error message if the input is invalid.\n",
        "  \"\"\"\n",
        "  try:\n",
        "    return sum(numbers)\n",
        "  except TypeError:\n",
        "    return \"Invalid input. Please enter a list of numbers.\"\n",
        "\n",
        "def calculate_average(numbers):\n",
        "  \"\"\"Calculates the average of a list of numbers.\n",
        "\n",
        "  Args:\n",
        "    numbers: A list of numbers.\n",
        "\n",
        "  Returns:\n",
        "    The average of the numbers, or an error message if the input is invalid.\n",
        "  \"\"\"\n",
        "  try:\n",
        "    return sum(numbers) / len(numbers)\n",
        "  except ZeroDivisionError:\n",
        "    return \"Cannot calculate the average of an empty list.\"\n",
        "  except TypeError:\n",
        "    return \"Invalid input. Please enter a list of numbers.\"\n",
        "\n",
        "def find_maximum(numbers):\n",
        "  \"\"\"Finds the maximum value in a list of numbers.\n",
        "\n",
        "  Args:\n",
        "    numbers: A list of numbers.\n",
        "\n",
        "  Returns:\n",
        "    The maximum value in the list, or an error message if the input is invalid.\n",
        "  \"\"\"\n",
        "  try:\n",
        "    return max(numbers)\n",
        "  except ValueError:\n",
        "    return \"Invalid input. Please enter a list of numbers.\"\n",
        "\n",
        "def find_minimum(numbers):\n",
        "  \"\"\"Finds the minimum value in a list of numbers.\n",
        "\n",
        "  Args:\n",
        "    numbers: A list of numbers.\n",
        "\n",
        "  Returns:\n",
        "    The minimum value in the list, or an error message if the input is invalid.\n",
        "  \"\"\"\n",
        "  try:\n",
        "    return min(numbers)\n",
        "  except ValueError:\n",
        "    return \"Invalid input. Please enter a list of numbers.\"\n",
        "\n",
        "if __name__ == \"__main__\":\n",
        "  operation = input(\"Enter operation (sum, average, maximum, minimum): \").lower()\n",
        "  try:\n",
        "    numbers_str = input(\"Enter a list of numbers separated by spaces: \")\n",
        "    numbers = [float(x) for x in numbers_str.split()]\n",
        "  except ValueError:\n",
        "    print(\"Invalid input. Please enter numbers separated by spaces.\")\n",
        "  else:\n",
        "    if operation == \"sum\":\n",
        "      result = calculate_sum(numbers)\n",
        "    elif operation == \"average\":\n",
        "      result = calculate_average(numbers)\n",
        "    elif operation == \"maximum\":\n",
        "      result = find_maximum(numbers)\n",
        "    elif operation == \"minimum\":\n",
        "      result = find_minimum(numbers)\n",
        "    else:\n",
        "      result = \"Invalid operation.\"\n",
        "\n",
        "result\n"
      ],
      "metadata": {
        "colab": {
          "base_uri": "https://localhost:8080/"
        },
        "id": "MoogU-VWAf9Z",
        "outputId": "92126b45-a4b5-4a99-b9db-3c74e434daaa"
      },
      "execution_count": 8,
      "outputs": [
        {
          "name": "stdout",
          "output_type": "stream",
          "text": [
            "Enter operation (sum, average, maximum, minimum): average\n",
            "Enter a list of numbers separated by spaces: 2 3 4 5\n"
          ]
        },
        {
          "output_type": "execute_result",
          "data": {
            "text/plain": [
              "3.5"
            ]
          },
          "metadata": {},
          "execution_count": 8
        }
      ]
    },
    {
      "cell_type": "markdown",
      "source": [
        "Exercise on List Manipulation:\n",
        "1. Extract Every Other Element:\n",
        "Write a Python function that extracts every other element from a list, starting from the first element.\n",
        "• Requirements:\n",
        "– Define a function extract every other(lst) that takes a list lst as input and returns a\n",
        "new list containing every other element from the original list.\n",
        "– Example: For the input [1, 2, 3, 4, 5, 6], the output should be [1, 3, 5]."
      ],
      "metadata": {
        "id": "LNs3YhjQAuti"
      }
    },
    {
      "cell_type": "code",
      "source": [
        "def extract_every_other(lst):\n",
        "  return lst[::2]\n",
        "# Example usage\n",
        "my_list = [1, 2, 3, 4, 5, 6]\n",
        "result_list = extract_every_other(my_list)\n",
        "result_list\n"
      ],
      "metadata": {
        "colab": {
          "base_uri": "https://localhost:8080/"
        },
        "id": "tEgChLFsBBNs",
        "outputId": "10a57cf7-fa26-48ef-929f-85e912851778"
      },
      "execution_count": 9,
      "outputs": [
        {
          "output_type": "execute_result",
          "data": {
            "text/plain": [
              "[1, 3, 5]"
            ]
          },
          "metadata": {},
          "execution_count": 9
        }
      ]
    },
    {
      "cell_type": "markdown",
      "source": [
        "Slice a Sublist:\n",
        "Write a Python function that returns a sublist from a given list, starting from a specified index and\n",
        "ending at another specified index.\n",
        "• Requirements:\n",
        "– Define a function get sublist(lst, start, end) that takes a list lst, a starting index\n",
        "start, and an ending index end as input and returns the sublist from start to end (inclusive).\n",
        "– Example: For the input [1, 2, 3, 4, 5, 6] with start=2 and end=4, the output should\n",
        "be [3, 4, 5]."
      ],
      "metadata": {
        "id": "4kgPObvPBKl-"
      }
    },
    {
      "cell_type": "code",
      "source": [
        "def get_sublist(lst,start,end):\n",
        "  return lst[start:end+1]\n",
        "\n",
        "my_list=[1,2,3,4,5,6]\n",
        "start_index=2\n",
        "end_index=4\n",
        "sub_list = get_sublist(my_list, start_index, end_index)\n",
        "sub_list"
      ],
      "metadata": {
        "colab": {
          "base_uri": "https://localhost:8080/"
        },
        "id": "O3RKmEzVBRX_",
        "outputId": "8cfca933-3c2f-459a-8331-2dec64693609"
      },
      "execution_count": 12,
      "outputs": [
        {
          "output_type": "execute_result",
          "data": {
            "text/plain": [
              "[3, 4, 5]"
            ]
          },
          "metadata": {},
          "execution_count": 12
        }
      ]
    },
    {
      "cell_type": "markdown",
      "source": [
        "3. Reverse a List Using Slicing:\n",
        "Write a Python function that reverses a list using slicing.\n",
        "• Requirements:\n",
        "– Define a function reverse list(lst) that takes a list lst and returns a reversed list using\n",
        "slicing.\n",
        "– Example: For the input [1, 2, 3, 4, 5], the output should be [5, 4, 3, 2, 1]."
      ],
      "metadata": {
        "id": "oe4s7iVEB9rj"
      }
    },
    {
      "cell_type": "code",
      "source": [
        "def reverse_list(lst):\n",
        "  return lst[::-1]\n",
        "my_list = [1, 2, 3, 4, 5]\n",
        "reversed_list = reverse_list(my_list)\n",
        "reversed_list\n"
      ],
      "metadata": {
        "colab": {
          "base_uri": "https://localhost:8080/"
        },
        "id": "5Fj0CHF2CIE8",
        "outputId": "602c303f-c186-4187-ab26-e789ed010733"
      },
      "execution_count": 13,
      "outputs": [
        {
          "output_type": "execute_result",
          "data": {
            "text/plain": [
              "[5, 4, 3, 2, 1]"
            ]
          },
          "metadata": {},
          "execution_count": 13
        }
      ]
    },
    {
      "cell_type": "markdown",
      "source": [
        "4. Remove the First and Last Elements:\n",
        "Write a Python function that removes the first and last elements of a list and returns the resulting\n",
        "sublist.\n",
        "• Requirements:\n",
        "– Define a function remove first last(lst) that takes a list lst and returns a sublist without\n",
        "the first and last elements using slicing.\n",
        "– Example: For the input [1, 2, 3, 4, 5], the output should be [2, 3, 4]."
      ],
      "metadata": {
        "id": "2L0gYwwDDpwl"
      }
    },
    {
      "cell_type": "code",
      "source": [
        "def remove_first_last(lst):\n",
        "  \"\"\"Removes the first and last elements of a list and returns the resulting sublist.\n",
        "\n",
        "  Args:\n",
        "    lst: The input list.\n",
        "\n",
        "  Returns:\n",
        "    A sublist without the first and last elements, or the original list if it has less than 2 elements.\n",
        "  \"\"\"\n",
        "  if len(lst) < 2:\n",
        "    return lst\n",
        "  return lst[1:-1]\n",
        "\n",
        "# Example usage\n",
        "my_list = [1, 2, 3, 4, 5]\n",
        "sub_list = remove_first_last(my_list)\n",
        "print(sub_list)  # Output: [2, 3, 4]\n"
      ],
      "metadata": {
        "colab": {
          "base_uri": "https://localhost:8080/"
        },
        "id": "b8Zd92yzD_sP",
        "outputId": "4b6c9b9d-fb2e-4f49-8590-e02182a2a7c0"
      },
      "execution_count": 14,
      "outputs": [
        {
          "output_type": "stream",
          "name": "stdout",
          "text": [
            "[2, 3, 4]\n"
          ]
        }
      ]
    },
    {
      "cell_type": "markdown",
      "source": [
        "5. Get the First n Elements:\n",
        "Write a Python function that extracts the first n elements from a list.\n",
        "• Requirements:\n",
        "– Define a function get first n(lst, n) that takes a list lst and an integer n as input and\n",
        "returns the first n elements of the list using slicing.\n",
        "– Example: For the input [1, 2, 3, 4, 5] with n=3, the output should be [1, 2, 3]."
      ],
      "metadata": {
        "id": "nrIqw3xNEHOn"
      }
    },
    {
      "cell_type": "code",
      "source": [
        "def get_first_n(lst, n):\n",
        "  \"\"\"Extracts the first n elements from a list.\n",
        "\n",
        "  Args:\n",
        "    lst: The input list.\n",
        "    n: The number of elements to extract.\n",
        "\n",
        "  Returns:\n",
        "    A list containing the first n elements of the input list.\n",
        "    Returns the entire list if n is greater than or equal to the list's length.\n",
        "    Returns an empty list if n is zero or negative, or if the input list is empty.\n",
        "  \"\"\"\n",
        "  if not lst or n <=0:\n",
        "      return []\n",
        "  return lst[:n]\n",
        "#Example\n",
        "my_list = [1, 2, 3, 4, 5]\n",
        "n = 3\n",
        "first_n_elements = get_first_n(my_list, n)\n",
        "first_n_elements"
      ],
      "metadata": {
        "colab": {
          "base_uri": "https://localhost:8080/"
        },
        "id": "d0avHyi5EKYE",
        "outputId": "64944f43-46d6-4e77-82c0-026a3a7d8a97"
      },
      "execution_count": 15,
      "outputs": [
        {
          "output_type": "execute_result",
          "data": {
            "text/plain": [
              "[1, 2, 3]"
            ]
          },
          "metadata": {},
          "execution_count": 15
        }
      ]
    },
    {
      "cell_type": "markdown",
      "source": [
        "6. Extract Elements from the End:\n",
        "Write a Python function that extracts the last n elements of a list using slicing.\n",
        "• Requirements:\n",
        "– Define a function get last n(lst, n) that takes a list lst and an integer n as input and\n",
        "returns the last n elements of the list.\n",
        "– Example: For the input [1, 2, 3, 4, 5] with n=2, the output should be [4, 5]."
      ],
      "metadata": {
        "id": "8XB3UExyEScY"
      }
    },
    {
      "cell_type": "code",
      "source": [
        "def get_last_n(lst, n):\n",
        "  \"\"\"Extracts the last n elements of a list using slicing.\n",
        "\n",
        "  Args:\n",
        "    lst: The input list.\n",
        "    n: The number of elements to extract from the end.\n",
        "\n",
        "  Returns:\n",
        "    A list containing the last n elements of the input list.\n",
        "    Returns an empty list if n is zero or negative, or if the input list is empty.\n",
        "    Returns the entire list if n is greater than or equal to the list's length.\n",
        "  \"\"\"\n",
        "  if not lst or n <= 0:\n",
        "    return []\n",
        "  return lst[-n:]\n",
        "my_list = [1, 2, 3, 4, 5]\n",
        "result = get_last_n(my_list, 2)\n",
        "print(result)"
      ],
      "metadata": {
        "colab": {
          "base_uri": "https://localhost:8080/"
        },
        "id": "9MZf56kmEcLK",
        "outputId": "ef6d630e-f5da-4bf7-c355-b5a9ef5924ff"
      },
      "execution_count": 21,
      "outputs": [
        {
          "output_type": "stream",
          "name": "stdout",
          "text": [
            "[4, 5]\n"
          ]
        }
      ]
    },
    {
      "cell_type": "markdown",
      "source": [
        "7. Extract Elements in Reverse Order:\n",
        "Write a Python function that extracts a list of elements in reverse order starting from the second-to-last\n",
        "element and skipping one element in between.\n",
        "• Requirements:\n",
        "– Define a function reverse skip(lst) that takes a list lst and returns a new list containing\n",
        "every second element starting from the second-to-last, moving backward.\n",
        "– Example: For the input [1, 2, 3, 4, 5, 6], the output should be [5, 3, 1]."
      ],
      "metadata": {
        "id": "syT7dxYXFA39"
      }
    },
    {
      "cell_type": "code",
      "source": [
        "def reverse_skip(lst):\n",
        "  \"\"\"\n",
        "  Extracts a list of elements in reverse order starting from the second-to-last\n",
        "  element and skipping one element in between.\n",
        "\n",
        "  Args:\n",
        "    lst: The input list.\n",
        "\n",
        "  Returns:\n",
        "    A new list containing every second element starting from the second-to-last,\n",
        "    moving backward.\n",
        "  \"\"\"\n",
        "  return lst[-2::-2]\n",
        "\n",
        "# Example usage\n",
        "my_list = [1, 2, 3, 4, 5, 6]\n",
        "result_list = reverse_skip(my_list)\n",
        "print(result_list)\n"
      ],
      "metadata": {
        "colab": {
          "base_uri": "https://localhost:8080/"
        },
        "id": "2eSjyArcFEsO",
        "outputId": "597a83a3-2b5f-4d04-9ae7-e5cb1618f9b5"
      },
      "execution_count": 22,
      "outputs": [
        {
          "output_type": "stream",
          "name": "stdout",
          "text": [
            "[5, 3, 1]\n"
          ]
        }
      ]
    },
    {
      "cell_type": "markdown",
      "source": [
        "Exercise on Nested List:\n",
        "1. Flatten a Nested List:\n",
        "Write a Python function that takes a nested list and flattens it into a single list, where all the elements\n",
        "are in a single dimension.\n",
        "• Requirements:\n",
        "– Define a function flatten(lst) that takes a nested list lst and returns a flattened version\n",
        "of the list.\n",
        "– Example: For the input [[1, 2], [3, 4], [5]], the output should be [1, 2, 3, 4, 5]."
      ],
      "metadata": {
        "id": "36WQBCvwFYTZ"
      }
    },
    {
      "cell_type": "code",
      "source": [
        "def flatten(lst):\n",
        "  \"\"\"Flattens a nested list into a single list.\n",
        "\n",
        "  Args:\n",
        "    lst: The nested list to flatten.\n",
        "\n",
        "  Returns:\n",
        "    A new list containing all elements from the nested list in a single dimension.\n",
        "  \"\"\"\n",
        "  flattened_list = []\n",
        "  for sublist in lst:\n",
        "    if isinstance(sublist, list):\n",
        "      flattened_list.extend(flatten(sublist))  # Recursive call for nested lists\n",
        "    else:\n",
        "      flattened_list.append(sublist)\n",
        "  return flattened_list\n",
        "\n",
        "# Example usage\n",
        "nested_list = [[1, 2], [3, 4], [5]]\n",
        "flat_list = flatten(nested_list)\n",
        "print(flat_list)\n"
      ],
      "metadata": {
        "colab": {
          "base_uri": "https://localhost:8080/"
        },
        "id": "DECUzj3YFY3Q",
        "outputId": "becc697f-781c-4cbe-c88a-454459311c1b"
      },
      "execution_count": 23,
      "outputs": [
        {
          "output_type": "stream",
          "name": "stdout",
          "text": [
            "[1, 2, 3, 4, 5]\n"
          ]
        }
      ]
    },
    {
      "cell_type": "markdown",
      "source": [
        "2. Accessing Nested List Elements:\n",
        "Write a Python function that extracts a specific element from a nested list given its indices.\n",
        "• Requirements:\n",
        "– Define a function access nested element(lst, indices) that takes a nested list lst and\n",
        "a list of indices indices, and returns the element at that position.\n",
        "– Example: For the input lst = [[1, 2, 3], [4, 5, 6], [7, 8, 9]] with indices = [1,\n",
        "2], the output should be 6."
      ],
      "metadata": {
        "id": "NuE9Wg28Ff-y"
      }
    },
    {
      "cell_type": "code",
      "source": [
        "def access_nested_element(lst, indices):\n",
        "  \"\"\"\n",
        "  Extracts a specific element from a nested list given its indices.\n",
        "\n",
        "  Args:\n",
        "    lst: The nested list.\n",
        "    indices: A list of indices specifying the element's position.\n",
        "\n",
        "  Returns:\n",
        "    The element at the specified position, or None if the indices are invalid.\n",
        "  \"\"\"\n",
        "  element = lst\n",
        "  for index in indices:\n",
        "    try:\n",
        "      element = element[index]\n",
        "    except (IndexError, TypeError):\n",
        "      return None\n",
        "  return element\n",
        "\n",
        "lst = [[1, 2, 3], [4, 5, 6], [7, 8, 9]]\n",
        "indices = [1, 2]\n",
        "result = access_nested_element(lst, indices)\n",
        "print(result)"
      ],
      "metadata": {
        "colab": {
          "base_uri": "https://localhost:8080/"
        },
        "id": "XcFKWFhiFjkK",
        "outputId": "adbf4a2d-e13c-4eef-dc10-8531385a1381"
      },
      "execution_count": 24,
      "outputs": [
        {
          "output_type": "stream",
          "name": "stdout",
          "text": [
            "6\n"
          ]
        }
      ]
    },
    {
      "cell_type": "markdown",
      "source": [
        "3. Sum of All Elements in a Nested List:\n",
        "Write a Python function that calculates the sum of all the numbers in a nested list (regardless of depth).\n",
        "• Requirements:\n",
        "– Define a function sum nested(lst) that takes a nested list lst and returns the sum of all\n",
        "the elements.\n",
        "– Example: For the input [[1, 2], [3, [4, 5]], 6], the output should be 21."
      ],
      "metadata": {
        "id": "87o0HxE0Frxz"
      }
    },
    {
      "cell_type": "code",
      "source": [
        "def sum_nested(lst):\n",
        "  \"\"\"Calculates the sum of all numbers in a nested list.\n",
        "\n",
        "  Args:\n",
        "    lst: The nested list.\n",
        "\n",
        "  Returns:\n",
        "    The sum of all numbers in the list.\n",
        "  \"\"\"\n",
        "  total_sum = 0\n",
        "  for element in lst:\n",
        "    if isinstance(element, list):\n",
        "      total_sum += sum_nested(element)  # Recursive call for nested lists\n",
        "    elif isinstance(element, int) or isinstance(element, float):\n",
        "      total_sum += element\n",
        "  return total_sum\n",
        "\n",
        "# Example usage\n",
        "nested_list = [[1, 2], [3, [4, 5]], 6]\n",
        "result = sum_nested(nested_list)\n",
        "print(result)  # Output: 21"
      ],
      "metadata": {
        "colab": {
          "base_uri": "https://localhost:8080/"
        },
        "id": "6pV-ByiFFrPC",
        "outputId": "c1dc1bf2-0a83-4ed1-d205-162744487e41"
      },
      "execution_count": 26,
      "outputs": [
        {
          "output_type": "stream",
          "name": "stdout",
          "text": [
            "21\n"
          ]
        }
      ]
    },
    {
      "cell_type": "markdown",
      "source": [
        "4. Remove Specific Element from a Nested List:\n",
        "Write a Python function that removes all occurrences of a specific element from a nested list.\n",
        "• Requirements:\n",
        "– Define a function remove element(lst, elem) that removes elem from lst and returns the\n",
        "modified list.\n",
        "– Example: For the input lst = [[1, 2], [3, 2], [4, 5]] and elem = 2, the output should\n",
        "be [[1], [3], [4, 5]]."
      ],
      "metadata": {
        "id": "HptqpT4TF3IS"
      }
    },
    {
      "cell_type": "code",
      "source": [
        "def remove_element(lst, elem):\n",
        "    \"\"\"Removes all occurrences of a specific element from a nested list.\n",
        "\n",
        "    Args:\n",
        "        lst: The nested list.\n",
        "        elem: The element to remove.\n",
        "\n",
        "    Returns:\n",
        "        The modified list with all occurrences of the element removed.\n",
        "    \"\"\"\n",
        "    new_list = []\n",
        "    for sublist in lst:\n",
        "        new_sublist = []\n",
        "        for item in sublist:\n",
        "            if item != elem:\n",
        "                new_sublist.append(item)\n",
        "        new_list.append(new_sublist)\n",
        "    return new_list  # This returns the modified list\n",
        "\n",
        "nested_list = [[1, 2, 3], [4, 2, 6], [7, 2, 9]]\n",
        "element_to_remove = 2\n",
        "\n",
        "# Call the function and print the result\n",
        "result = remove_element(nested_list, element_to_remove)\n",
        "print(result)"
      ],
      "metadata": {
        "colab": {
          "base_uri": "https://localhost:8080/"
        },
        "id": "jhNu6fCtF99u",
        "outputId": "6cd28512-9d3d-4318-ecce-098e8288af19"
      },
      "execution_count": 30,
      "outputs": [
        {
          "output_type": "stream",
          "name": "stdout",
          "text": [
            "[[1, 3], [4, 6], [7, 9]]\n"
          ]
        }
      ]
    },
    {
      "cell_type": "markdown",
      "source": [
        "5. Find the Maximum Element in a Nested List:\n",
        "Write a Python function that finds the maximum element in a nested list (regardless of depth).\n",
        "• Requirements:\n",
        "– Define a function find max(lst) that takes a nested list lst and returns the maximum\n",
        "element.\n",
        "– Example: For the input [[1, 2], [3, [4, 5]], 6], the output should be 6."
      ],
      "metadata": {
        "id": "Prn8b6nyGd4U"
      }
    },
    {
      "cell_type": "code",
      "source": [
        "def find_max(lst):\n",
        "    \"\"\"Finds the maximum element in a nested list.\n",
        "\n",
        "    Args:\n",
        "        lst: The nested list.\n",
        "\n",
        "    Returns:\n",
        "        The maximum element in the list.\n",
        "    \"\"\"\n",
        "    max_element = float('-inf')  # Initialize with negative infinity\n",
        "\n",
        "    def _find_max(sub_lst):\n",
        "        nonlocal max_element\n",
        "        for element in sub_lst:\n",
        "            if isinstance(element, list):\n",
        "                _find_max(element)  # Recursive call for nested lists\n",
        "            elif isinstance(element, (int, float)):\n",
        "                max_element = max(max_element, element)\n",
        "\n",
        "    _find_max(lst)\n",
        "    return max_element\n",
        "\n",
        "nested_list = [[1, 2], [3, [4, 5]], 6]\n",
        "result = find_max(nested_list)\n",
        "print(result)"
      ],
      "metadata": {
        "colab": {
          "base_uri": "https://localhost:8080/"
        },
        "id": "KBohhtdPGhP3",
        "outputId": "91dcce06-b72e-4f53-bf77-a8b415b2cdbf"
      },
      "execution_count": 32,
      "outputs": [
        {
          "output_type": "stream",
          "name": "stdout",
          "text": [
            "6\n"
          ]
        }
      ]
    },
    {
      "cell_type": "markdown",
      "source": [
        "6. Count Occurrences of an Element in a Nested List:\n",
        "Write a Python function that counts how many times a specific element appears in a nested list.\n",
        "• Requirements:\n",
        "– Define a function count occurrences(lst, elem) that counts the occurrences of elem in\n",
        "the nested list lst.\n",
        "– Example: For the input lst = [[1, 2], [2, 3], [2, 4]] and elem = 2, the output should\n",
        "be 3."
      ],
      "metadata": {
        "id": "hnSv5H1-GpKg"
      }
    },
    {
      "cell_type": "code",
      "source": [
        "def count_occurrences(lst, elem):\n",
        "    \"\"\"Counts the occurrences of an element in a nested list.\n",
        "\n",
        "    Args:\n",
        "        lst: The nested list.\n",
        "        elem: The element to count.\n",
        "\n",
        "    Returns:\n",
        "        The number of times the element appears in the list.\n",
        "    \"\"\"\n",
        "    count = 0\n",
        "    for sublist in lst:\n",
        "        if isinstance(sublist, list):  # Check if it's a sublist\n",
        "            count += count_occurrences(sublist, elem)  # Recursive call\n",
        "        elif sublist == elem:  # Direct match\n",
        "            count += 1\n",
        "    return count\n",
        "\n",
        "# Example usage\n",
        "nested_list = [[1, 2], [2, 3], [2, 4]]\n",
        "element_to_count = 2  # Specify the element to count\n",
        "\n",
        "# Call the function correctly\n",
        "result = count_occurrences(nested_list, element_to_count)\n",
        "print(result)"
      ],
      "metadata": {
        "colab": {
          "base_uri": "https://localhost:8080/"
        },
        "id": "AEUE8x8VGwyq",
        "outputId": "629b8fb8-6e6d-4782-acc0-229b71e5ce4d"
      },
      "execution_count": 39,
      "outputs": [
        {
          "output_type": "stream",
          "name": "stdout",
          "text": [
            "3\n"
          ]
        }
      ]
    },
    {
      "cell_type": "markdown",
      "source": [
        "7. Flatten a List of Lists of Lists:\n",
        "Write a Python function that flattens a list of lists of lists into a single list, regardless of the depth.\n",
        "• Requirements:\n",
        "– Define a function deep flatten(lst) that takes a deeply nested list lst and returns a single\n",
        "flattened list.\n",
        "– Example: For the input [[[1, 2], [3, 4]], [[5, 6], [7, 8]]], the output should be\n",
        "[1, 2, 3, 4, 5, 6, 7, 8]."
      ],
      "metadata": {
        "id": "4lCR_w0tHb0N"
      }
    },
    {
      "cell_type": "code",
      "source": [
        "def deep_flatten(lst):\n",
        "    \"\"\"Flattens a list of lists of lists into a single list.\n",
        "\n",
        "    Args:\n",
        "        lst: The deeply nested list.\n",
        "\n",
        "    Returns:\n",
        "        A single flattened list.\n",
        "    \"\"\"\n",
        "    flattened_list = []\n",
        "    for element in lst:\n",
        "        if isinstance(element, list):\n",
        "            flattened_list.extend(deep_flatten(element))\n",
        "        else:\n",
        "            flattened_list.append(element)\n",
        "    return flattened_list\n",
        "\n",
        "nested_list = [[[1, 2], [3, 4]], [[5, 6], [7, 8]]]\n",
        "result = deep_flatten(nested_list)\n",
        "print(result)"
      ],
      "metadata": {
        "colab": {
          "base_uri": "https://localhost:8080/"
        },
        "id": "3BL1gqmwHfC3",
        "outputId": "0536bc50-7ebf-49a5-f15a-abcc733dc2bc"
      },
      "execution_count": 43,
      "outputs": [
        {
          "output_type": "stream",
          "name": "stdout",
          "text": [
            "[1, 2, 3, 4, 5, 6, 7, 8]\n"
          ]
        }
      ]
    },
    {
      "cell_type": "markdown",
      "source": [
        "8. Nested List Average:\n",
        "Write a Python function that calculates the average of all elements in a nested list.\n",
        "• Requirements:\n",
        "– Define a function average nested(lst) that takes a nested list lst and returns the average\n",
        "of all the elements.\n",
        "– Example: For the input [[1, 2], [3, 4], [5, 6]], the output should be 3.5."
      ],
      "metadata": {
        "id": "fDWE0lxJHkbn"
      }
    },
    {
      "cell_type": "code",
      "source": [
        "def average_nested(lst):\n",
        "    \"\"\"Calculates the average of all elements in a nested list.\n",
        "\n",
        "    Args:\n",
        "        lst: The nested list.\n",
        "\n",
        "    Returns:\n",
        "        The average of all elements in the list, or 0 if the list is empty or contains no numbers.\n",
        "    \"\"\"\n",
        "    total_sum = 0\n",
        "    count = 0\n",
        "    for sublist in lst:\n",
        "        for element in sublist:\n",
        "            if isinstance(element, (int, float)):\n",
        "                total_sum += element\n",
        "                count += 1\n",
        "    return total_sum / count if count else 0\n",
        "\n",
        "nested_list = [[1, 2, 3], [4, 5, 6], [7, 8, 9]]\n",
        "result = average_nested(nested_list)\n",
        "print(result)"
      ],
      "metadata": {
        "colab": {
          "base_uri": "https://localhost:8080/"
        },
        "id": "YJ7SPvVTHqMG",
        "outputId": "bcb0bff3-7c1c-4c70-e8b3-09c962d42453"
      },
      "execution_count": 46,
      "outputs": [
        {
          "output_type": "stream",
          "name": "stdout",
          "text": [
            "5.0\n"
          ]
        }
      ]
    },
    {
      "cell_type": "markdown",
      "source": [
        "To - Do - NumPy\n",
        "Please complete all the problems listed below:\n",
        "10.1 Basic Vector and Matrix Operation with Numpy.\n",
        "Problem - 1: Array Creation:\n",
        "Complete the following Tasks:\n",
        "1. Initialize an empty array with size 2X2.\n",
        "2. Initialize an all one array with size 4X2.\n",
        "3. Return a new array of given shape and type, filled with fill value.{Hint: np.full}\n",
        "4. Return a new array of zeros with same shape and type as a given array.{Hint: np.zeros like}\n",
        "5. Return a new array of ones with same shape and type as a given array.{Hint: np.ones like}\n",
        "6. For an existing list new_list = [1,2,3,4] convert to an numpy array.{Hint: np.array()}"
      ],
      "metadata": {
        "id": "dHQSGOcQIaT8"
      }
    },
    {
      "cell_type": "code",
      "source": [
        "import numpy as np\n",
        "\n",
        "# 1. Initialize an empty array with size 2X2.\n",
        "empty_array = np.empty((2, 2))\n",
        "print(\"Empty array:\\n\", empty_array)\n",
        "\n",
        "# 2. Initialize an all one array with size 4X2.\n",
        "ones_array = np.ones((4, 2))\n",
        "print(\"Ones array:\\n\", ones_array)\n",
        "\n",
        "# 3. Return a new array of given shape and type, filled with fill value.\n",
        "fill_array = np.full((3, 3), 7)  # Example: Filled with 7\n",
        "print(\"Fill array:\\n\", fill_array)\n",
        "\n",
        "# 4. Return a new array of zeros with the same shape and type as a given array.\n",
        "example_array = np.array([[1, 2], [3, 4]], dtype=float)\n",
        "zeros_like_array = np.zeros_like(example_array)\n",
        "print(\"Zeros like array:\\n\", zeros_like_array)\n",
        "\n",
        "# 5. Return a new array of ones with the same shape and type as a given array.\n",
        "ones_like_array = np.ones_like(example_array)\n",
        "print(\"Ones like array:\\n\", ones_like_array)\n",
        "\n",
        "# 6. For an existing list new_list = [1, 2, 3, 4] convert to a numpy array.\n",
        "new_list = [1, 2, 3, 4]\n",
        "numpy_array = np.array(new_list)\n",
        "print(\"Numpy array from list:\\n\", numpy_array)"
      ],
      "metadata": {
        "colab": {
          "base_uri": "https://localhost:8080/"
        },
        "id": "JZVRhbEfIbY1",
        "outputId": "8f4aabac-a8e2-4286-fe57-f1f19fc1dc74"
      },
      "execution_count": 47,
      "outputs": [
        {
          "output_type": "stream",
          "name": "stdout",
          "text": [
            "Empty array:\n",
            " [[5.0261283e-316 0.0000000e+000]\n",
            " [0.0000000e+000 0.0000000e+000]]\n",
            "Ones array:\n",
            " [[1. 1.]\n",
            " [1. 1.]\n",
            " [1. 1.]\n",
            " [1. 1.]]\n",
            "Fill array:\n",
            " [[7 7 7]\n",
            " [7 7 7]\n",
            " [7 7 7]]\n",
            "Zeros like array:\n",
            " [[0. 0.]\n",
            " [0. 0.]]\n",
            "Ones like array:\n",
            " [[1. 1.]\n",
            " [1. 1.]]\n",
            "Numpy array from list:\n",
            " [1 2 3 4]\n"
          ]
        }
      ]
    },
    {
      "cell_type": "markdown",
      "source": [
        "Problem - 2: Array Manipulation: Numerical Ranges and Array indexing:\n",
        "Complete the following tasks:\n",
        "1. Create an array with values ranging from 10 to 49. {Hint:np.arrange()}.\n",
        "2. Create a 3X3 matrix with values ranging from 0 to 8.\n",
        "{Hint:look for np.reshape()}\n",
        "3. Create a 3X3 identity matrix.{Hint:np.eye()}\n",
        "4. Create a random array of size 30 and find the mean of the array.\n",
        "{Hint:check for np.random.random() and array.mean() function}\n",
        "5. Create a 10X10 array with random values and find the minimum and maximum values.\n",
        "6. Create a zero array of size 10 and replace 5th element with 1.\n",
        "7. Reverse an array arr = [1,2,0,0,4,0].\n",
        "8. Create a 2d array with 1 on border and 0 inside.\n",
        "9. Create a 8X8 matrix and fill it with a checkerboard pattern."
      ],
      "metadata": {
        "id": "XaAAoGRiIndU"
      }
    },
    {
      "cell_type": "code",
      "source": [
        "import numpy as np\n",
        "\n",
        "# 1. Create an array with values ranging from 10 to 49.\n",
        "array_1 = np.arange(10, 50)\n",
        "print(\"Array with values from 10 to 49:\\n\", array_1)\n",
        "\n",
        "# 2. Create a 3x3 matrix with values ranging from 0 to 8.\n",
        "matrix_2 = np.arange(9).reshape(3, 3)\n",
        "print(\"3x3 matrix with values from 0 to 8:\\n\", matrix_2)\n",
        "\n",
        "# 3. Create a 3x3 identity matrix.\n",
        "identity_matrix = np.eye(3)\n",
        "print(\"3x3 identity matrix:\\n\", identity_matrix)\n",
        "\n",
        "# 4. Create a random array of size 30 and find the mean.\n",
        "random_array = np.random.random(30)\n",
        "mean_value = random_array.mean()\n",
        "print(\"Random array:\\n\", random_array)\n",
        "print(\"Mean of random array:\\n\", mean_value)\n",
        "\n",
        "# 5. Create a 10x10 array with random values and find the minimum and maximum.\n",
        "random_matrix = np.random.random((10, 10))\n",
        "min_value = random_matrix.min()\n",
        "max_value = random_matrix.max()\n",
        "print(\"10x10 random matrix:\\n\", random_matrix)\n",
        "print(\"Minimum value:\\n\", min_value)\n",
        "print(\"Maximum value:\\n\", max_value)\n",
        "\n",
        "# 6. Create a zero array of size 10 and replace the 5th element with 1.\n",
        "zero_array = np.zeros(10)\n",
        "zero_array[4] = 1  # 5th element (index 4)\n",
        "print(\"Zero array with 5th element replaced:\\n\", zero_array)\n",
        "\n",
        "# 7. Reverse an array arr = [1, 2, 0, 0, 4, 0].\n",
        "arr = np.array([1, 2, 0, 0, 4, 0])\n",
        "reversed_arr = arr[::-1]\n",
        "print(\"Reversed array:\\n\", reversed_arr)\n",
        "\n",
        "# 8. Create a 2D array with 1 on the border and 0 inside.\n",
        "size = 5  # Example size\n",
        "array_8 = np.ones((size, size))\n",
        "array_8[1:-1, 1:-1] = 0\n",
        "print(\"2D array with 1 on border and 0 inside:\\n\", array_8)\n",
        "\n",
        "\n",
        "# 9. Create an 8x8 matrix and fill it with a checkerboard pattern.\n",
        "checkerboard = np.zeros((8, 8), dtype=int)\n",
        "checkerboard[::2, ::2] = 1\n",
        "checkerboard[1::2, 1::2] = 1\n",
        "print(\"Checkerboard pattern:\\n\", checkerboard)"
      ],
      "metadata": {
        "colab": {
          "base_uri": "https://localhost:8080/"
        },
        "id": "oYWR_MFgIrQc",
        "outputId": "7801f94d-6aac-48a3-ba09-647e704b9803"
      },
      "execution_count": 49,
      "outputs": [
        {
          "output_type": "stream",
          "name": "stdout",
          "text": [
            "Array with values from 10 to 49:\n",
            " [10 11 12 13 14 15 16 17 18 19 20 21 22 23 24 25 26 27 28 29 30 31 32 33\n",
            " 34 35 36 37 38 39 40 41 42 43 44 45 46 47 48 49]\n",
            "3x3 matrix with values from 0 to 8:\n",
            " [[0 1 2]\n",
            " [3 4 5]\n",
            " [6 7 8]]\n",
            "3x3 identity matrix:\n",
            " [[1. 0. 0.]\n",
            " [0. 1. 0.]\n",
            " [0. 0. 1.]]\n",
            "Random array:\n",
            " [0.91649565 0.31964244 0.85809829 0.72840304 0.33557679 0.87690114\n",
            " 0.49883332 0.33906096 0.66639163 0.97173916 0.90168069 0.76315966\n",
            " 0.24468474 0.31014675 0.17346262 0.94190379 0.63523927 0.63789246\n",
            " 0.82812172 0.81441789 0.25197178 0.33986437 0.70312604 0.05130211\n",
            " 0.12356511 0.43340401 0.56787033 0.19570777 0.00372266 0.50502055]\n",
            "Mean of random array:\n",
            " 0.5312468911003247\n",
            "10x10 random matrix:\n",
            " [[0.14824867 0.11112073 0.99989836 0.78110221 0.98865676 0.50484721\n",
            "  0.12751057 0.99688208 0.35899421 0.414181  ]\n",
            " [0.68928447 0.92216068 0.63193073 0.57723589 0.31897959 0.42090797\n",
            "  0.59205368 0.66207357 0.98238384 0.9733295 ]\n",
            " [0.0572246  0.08813603 0.7533907  0.35434639 0.73438722 0.24231855\n",
            "  0.72793552 0.48046685 0.7700176  0.95941384]\n",
            " [0.99896698 0.70671934 0.47281433 0.78020273 0.48309763 0.23792688\n",
            "  0.56248995 0.03755897 0.28026105 0.2871826 ]\n",
            " [0.74814519 0.91251615 0.70268817 0.18879693 0.81503538 0.13970205\n",
            "  0.15864144 0.34880528 0.99188931 0.44238355]\n",
            " [0.14844896 0.78338548 0.05819835 0.76117971 0.86233491 0.80817241\n",
            "  0.0377859  0.54180419 0.65677426 0.09364854]\n",
            " [0.10632968 0.59903529 0.09768455 0.77100547 0.8403086  0.9896183\n",
            "  0.39753443 0.71400319 0.20491937 0.77814888]\n",
            " [0.13984875 0.38334637 0.75907767 0.91776999 0.66112215 0.16532968\n",
            "  0.68947211 0.69502922 0.78073451 0.29907336]\n",
            " [0.09977434 0.63960309 0.94534113 0.80379667 0.89523323 0.41584464\n",
            "  0.96767793 0.94057695 0.82970449 0.00947794]\n",
            " [0.56161008 0.04968408 0.57906303 0.40086904 0.20764415 0.65676957\n",
            "  0.56175724 0.17536195 0.91974458 0.55081134]]\n",
            "Minimum value:\n",
            " 0.009477936172092805\n",
            "Maximum value:\n",
            " 0.9998983596917831\n",
            "Zero array with 5th element replaced:\n",
            " [0. 0. 0. 0. 1. 0. 0. 0. 0. 0.]\n",
            "Reversed array:\n",
            " [0 4 0 0 2 1]\n",
            "2D array with 1 on border and 0 inside:\n",
            " [[1. 1. 1. 1. 1.]\n",
            " [1. 0. 0. 0. 1.]\n",
            " [1. 0. 0. 0. 1.]\n",
            " [1. 0. 0. 0. 1.]\n",
            " [1. 1. 1. 1. 1.]]\n",
            "Checkerboard pattern:\n",
            " [[1 0 1 0 1 0 1 0]\n",
            " [0 1 0 1 0 1 0 1]\n",
            " [1 0 1 0 1 0 1 0]\n",
            " [0 1 0 1 0 1 0 1]\n",
            " [1 0 1 0 1 0 1 0]\n",
            " [0 1 0 1 0 1 0 1]\n",
            " [1 0 1 0 1 0 1 0]\n",
            " [0 1 0 1 0 1 0 1]]\n"
          ]
        }
      ]
    },
    {
      "cell_type": "markdown",
      "source": [
        "Problem - 3: Array Operations:\n",
        "For the following arrays:\n",
        "x = np.array([[1,2],[3,5]]) and y = np.array([[5,6],[7,8]]);\n",
        "v = np.array([9,10]) and w = np.array([11,12]);\n",
        "Complete all the task using numpy:\n",
        "1. Add the two array.\n",
        "2. Subtract the two array.\n",
        "3. Multiply the array with any integers of your choice.\n",
        "4. Find the square of each element of the array.\n",
        "5. Find the dot product between: v(and)w ; x(and)v ; x(and)y.\n",
        "6. Concatenate x(and)y along row and Concatenate v(and)w along column.\n",
        "{Hint:try np.concatenate() or np.vstack() functions.\n",
        "7. Concatenate x(and)v; if you get an error, observe and explain why did you get the error?"
      ],
      "metadata": {
        "id": "cvxPP-AHIx_2"
      }
    },
    {
      "cell_type": "code",
      "source": [
        "import numpy as np\n",
        "\n",
        "x = np.array([[1, 2], [3, 5]])\n",
        "y = np.array([[5, 6], [7, 8]])\n",
        "v = np.array([9, 10])\n",
        "w = np.array([11, 12])\n",
        "\n",
        "# 1. Add the two arrays.\n",
        "print(\"Sum of x and y:\\n\", x + y)\n",
        "\n",
        "# 2. Subtract the two arrays.\n",
        "print(\"Difference of x and y:\\n\", x - y)\n",
        "\n",
        "# 3. Multiply the array with an integer.\n",
        "print(\"x multiplied by 3:\\n\", x * 3)\n",
        "\n",
        "# 4. Find the square of each element of the array.\n",
        "print(\"Square of each element in x:\\n\", x**2)\n",
        "\n",
        "# 5. Dot products.\n",
        "print(\"Dot product of v and w:\\n\", np.dot(v, w))\n",
        "print(\"Dot product of x and v:\\n\", np.dot(x, v))\n",
        "print(\"Dot product of x and y:\\n\", np.dot(x, y))\n",
        "\n",
        "# 6. Concatenate x and y along rows\n",
        "print(\"Concatenate x and y along rows:\\n\", np.concatenate((x, y), axis=0))\n",
        "\n",
        "# 7. Concatenate v and w along columns (Stack vertically)\n",
        "print(\"Concatenate v and w along columns:\\n\", np.vstack((v, w)))\n",
        "\n",
        "# 8. Fixing concatenation of x and v\n",
        "try:\n",
        "    # Reshaping `v` to have a second dimension (column vector)\n",
        "    v_reshaped = v.reshape(2, 1)\n",
        "\n",
        "    # Concatenating x and v_reshaped along axis=1 (columns)\n",
        "    print(\"Concatenate x and v (reshaped to 2,1) along columns:\\n\", np.concatenate((x, v_reshaped), axis=1))\n",
        "except ValueError as e:\n",
        "    print(f\"Error: {e}\")\n",
        "    print(\"Explanation: Cannot concatenate arrays with inconsistent dimensions.\")\n",
        "    print(\"You must reshape v before concatenation: `v.reshape(2,1)` to match x's shape.\")"
      ],
      "metadata": {
        "colab": {
          "base_uri": "https://localhost:8080/"
        },
        "id": "d4EKbCwtI02W",
        "outputId": "43cd8917-00b6-4ce6-be64-a8286337acf4"
      },
      "execution_count": 54,
      "outputs": [
        {
          "output_type": "stream",
          "name": "stdout",
          "text": [
            "Sum of x and y:\n",
            " [[ 6  8]\n",
            " [10 13]]\n",
            "Difference of x and y:\n",
            " [[-4 -4]\n",
            " [-4 -3]]\n",
            "x multiplied by 3:\n",
            " [[ 3  6]\n",
            " [ 9 15]]\n",
            "Square of each element in x:\n",
            " [[ 1  4]\n",
            " [ 9 25]]\n",
            "Dot product of v and w:\n",
            " 219\n",
            "Dot product of x and v:\n",
            " [29 77]\n",
            "Dot product of x and y:\n",
            " [[19 22]\n",
            " [50 58]]\n",
            "Concatenate x and y along rows:\n",
            " [[1 2]\n",
            " [3 5]\n",
            " [5 6]\n",
            " [7 8]]\n",
            "Concatenate v and w along columns:\n",
            " [[ 9 10]\n",
            " [11 12]]\n",
            "Concatenate x and v (reshaped to 2,1) along columns:\n",
            " [[ 1  2  9]\n",
            " [ 3  5 10]]\n"
          ]
        }
      ]
    },
    {
      "cell_type": "markdown",
      "source": [
        "Problem - 4: Matrix Operations:\n",
        "• For the following arrays:\n",
        "A = np.array([[3,4],[7,8]]) and B = np.array([[5,3],[2,1]]);\n",
        "Prove following with Numpy:\n",
        "1. Prove A.A−1 = I.\n",
        "2. Prove AB ̸= BA.\n",
        "3. Prove (AB)\n",
        "\n",
        "T = BTAT\n",
        ".\n",
        "\n",
        "• Solve the following system of Linear equation using Inverse Methods.\n",
        "\n",
        "2x − 3y + z = −1\n",
        "x − y + 2z = −3\n",
        "3x + y − z = 9\n",
        "\n",
        "{Hint: First use Numpy array to represent the equation in Matrix form. Then Solve for: AX = B}\n",
        "\n",
        "• Now: solve the above equation using np.linalg.inv function.{Explore more about ”linalg” func-\n",
        "tion of Numpy}"
      ],
      "metadata": {
        "id": "FOV83LzkJHsp"
      }
    },
    {
      "cell_type": "code",
      "source": [
        "import numpy as np\n",
        "\n",
        "# Problem 4: Matrix Operations\n",
        "\n",
        "A = np.array([[3, 4], [7, 8]])\n",
        "B = np.array([[5, 3], [2, 1]])\n",
        "\n",
        "# 1. Prove A.A⁻¹ = I\n",
        "A_inv = np.linalg.inv(A)\n",
        "I = np.dot(A, A_inv)\n",
        "print(\"A.A⁻¹ = \\n\", I)  # Should be close to the identity matrix\n",
        "\n",
        "# 2. Prove AB ≠ BA\n",
        "AB = np.dot(A, B)\n",
        "BA = np.dot(B, A)\n",
        "print(\"AB = \\n\", AB)\n",
        "print(\"BA = \\n\", BA)\n",
        "print(\"AB != BA:\", not np.array_equal(AB, BA))\n",
        "\n",
        "# 3. Prove (AB)ᵀ = BᵀAᵀ\n",
        "AB_transpose = np.transpose(AB)\n",
        "B_transpose = np.transpose(B)\n",
        "A_transpose = np.transpose(A)\n",
        "BT_AT = np.dot(B_transpose, A_transpose)\n",
        "print(\"(AB)ᵀ = \\n\", AB_transpose)\n",
        "print(\"BᵀAᵀ = \\n\", BT_AT)\n",
        "print(\"(AB)ᵀ == BᵀAᵀ:\", np.array_equal(AB_transpose, BT_AT))\n",
        "\n",
        "# Solve the system of linear equations using inverse method\n",
        "A = np.array([[2, -3, 1], [1, -1, 2], [3, 1, -1]])\n",
        "B = np.array([-1, -3, 9])\n",
        "X = np.dot(np.linalg.inv(A), B)\n",
        "print(\"Solution using inverse method:\\n\",X)\n",
        "\n",
        "# Solve using np.linalg.solve\n",
        "X = np.linalg.solve(A, B)\n",
        "print(\"Solution using np.linalg.solve:\\n\",X)"
      ],
      "metadata": {
        "colab": {
          "base_uri": "https://localhost:8080/"
        },
        "id": "HB9XB6ZFJMOB",
        "outputId": "44f7adc2-a493-43c3-bcc0-3b9e8f97116b"
      },
      "execution_count": 51,
      "outputs": [
        {
          "output_type": "stream",
          "name": "stdout",
          "text": [
            "A.A⁻¹ = \n",
            " [[1.00000000e+00 0.00000000e+00]\n",
            " [1.77635684e-15 1.00000000e+00]]\n",
            "AB = \n",
            " [[23 13]\n",
            " [51 29]]\n",
            "BA = \n",
            " [[36 44]\n",
            " [13 16]]\n",
            "AB != BA: True\n",
            "(AB)ᵀ = \n",
            " [[23 51]\n",
            " [13 29]]\n",
            "BᵀAᵀ = \n",
            " [[23 51]\n",
            " [13 29]]\n",
            "(AB)ᵀ == BᵀAᵀ: True\n",
            "Solution using inverse method:\n",
            " [ 2.  1. -2.]\n",
            "Solution using np.linalg.solve:\n",
            " [ 2.  1. -2.]\n"
          ]
        }
      ]
    }
  ]
}